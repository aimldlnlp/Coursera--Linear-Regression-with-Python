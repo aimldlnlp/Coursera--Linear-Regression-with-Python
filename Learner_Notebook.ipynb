{
  "cells": [
    {
      "cell_type": "markdown",
      "metadata": {
        "id": "view-in-github",
        "colab_type": "text"
      },
      "source": [
        "<a href=\"https://colab.research.google.com/github/aimldlnlp/Coursera--Linear-Regression-with-Python/blob/main/Learner_Notebook.ipynb\" target=\"_parent\"><img src=\"https://colab.research.google.com/assets/colab-badge.svg\" alt=\"Open In Colab\"/></a>"
      ]
    },
    {
      "cell_type": "markdown",
      "metadata": {
        "id": "hssQKAHHGMHM"
      },
      "source": [
        "# Task 1: Introduction"
      ]
    },
    {
      "cell_type": "code",
      "execution_count": 1,
      "metadata": {
        "id": "miyjpmj5GMHN"
      },
      "outputs": [],
      "source": [
        "%matplotlib inline\n",
        "\n",
        "import numpy as np\n",
        "import matplotlib.pyplot as plt"
      ]
    },
    {
      "cell_type": "markdown",
      "metadata": {
        "id": "raFpVM_XGMHN"
      },
      "source": [
        "# Task 2: Dataset\n",
        "\n",
        "Real estate agent table:"
      ]
    },
    {
      "cell_type": "markdown",
      "metadata": {
        "id": "Um-iCtNhGMHN"
      },
      "source": [
        "|Area|Distance|Price|\n",
        "|---|---|---|\n",
        "|70|3|21200|\n",
        "|50|1|22010|\n",
        "|120|9|24305|\n",
        "|100|2|31500|\n",
        "\n",
        "You can write the relationship with a 2-variable linear equation:\n",
        "\n",
        "$\n",
        "\\begin{equation}\n",
        "y = b + w_1.x_1 + w_2.x_2\n",
        "\\end{equation}\n",
        "$\n",
        "\n",
        "In a vector form:\n",
        "\n",
        "$\n",
        "\\begin{equation}\n",
        "y = b + (w_1 w_2).\\binom{x_1}{x_2}\n",
        "\\end{equation}\n",
        "$\n",
        "\n",
        "Where\n",
        "$\n",
        "\\begin{equation}\n",
        "W = (w_1 w_2)\n",
        "\\end{equation}\n",
        "$\n",
        "and\n",
        "$\n",
        "\\begin{equation}\n",
        "X = \\binom{x_1}{x_2}\n",
        "\\end{equation}\n",
        "$"
      ]
    },
    {
      "cell_type": "code",
      "execution_count": 2,
      "metadata": {
        "id": "HI7Snm3FGMHN"
      },
      "outputs": [],
      "source": [
        "def generate_examples(num=1000):\n",
        "    W = [1.0, -3.0]\n",
        "    b = 1.0\n",
        "\n",
        "    W = np.reshape(W, (2,1))\n",
        "    X = np.random.randn(num, 2)\n",
        "    y = np.dot(X, W) + b\n",
        "    y = np.reshape(y, (num, 1))\n",
        "    return X, y"
      ]
    },
    {
      "cell_type": "code",
      "execution_count": 3,
      "metadata": {
        "id": "nU0asHQOGMHO"
      },
      "outputs": [],
      "source": [
        "X, y = generate_examples()"
      ]
    },
    {
      "cell_type": "code",
      "execution_count": 4,
      "metadata": {
        "colab": {
          "base_uri": "https://localhost:8080/"
        },
        "id": "DY0MYXKdGMHO",
        "outputId": "1f99ade7-6cd8-4535-d9d1-c360b9e911f2"
      },
      "outputs": [
        {
          "output_type": "stream",
          "name": "stdout",
          "text": [
            "(1000, 2)\n",
            "(1000, 1)\n"
          ]
        }
      ],
      "source": [
        "print(X.shape)\n",
        "print(y.shape)"
      ]
    },
    {
      "cell_type": "code",
      "execution_count": 5,
      "metadata": {
        "colab": {
          "base_uri": "https://localhost:8080/"
        },
        "id": "33Oky0z7GMHO",
        "outputId": "1428c691-77d2-417b-aff8-129f35cf632b"
      },
      "outputs": [
        {
          "output_type": "stream",
          "name": "stdout",
          "text": [
            "[[ 0.90438398 -0.93961973]\n",
            " [-0.01691308  1.66403895]\n",
            " [ 0.50530785  0.54473571]\n",
            " [ 0.36526989 -0.94385963]\n",
            " [-0.25163545 -0.32073741]]\n",
            "[[ 4.72324317]\n",
            " [-4.00902994]\n",
            " [-0.12889927]\n",
            " [ 4.19684877]\n",
            " [ 1.71057677]]\n"
          ]
        }
      ],
      "source": [
        "print(X[:5])\n",
        "print(y[:5])"
      ]
    },
    {
      "cell_type": "markdown",
      "metadata": {
        "id": "6il0WpUMGMHO"
      },
      "source": [
        "# Task 3: Initialize Parameters"
      ]
    },
    {
      "cell_type": "markdown",
      "metadata": {
        "id": "0qTGSEDTGMHO"
      },
      "source": [
        "The loss over **m** examples:\n",
        "\n",
        "$\n",
        "\\begin{equation}\n",
        "J = \\frac{1}{2m} \\sum_{i=1}^{m} (y - \\hat{y})^2\n",
        "\\end{equation}\n",
        "$\n",
        "\n",
        "The objective of the gradient descent algorithm is to minimize this loss value.\n",
        "\n",
        "Gradient Descent Objective is to\n",
        "$\n",
        "\\begin{equation}\n",
        "min(J)\n",
        "\\end{equation}\n",
        "$"
      ]
    },
    {
      "cell_type": "code",
      "source": [
        "class Model:\n",
        "  def __init__(self, num_features):\n",
        "    self.num_features = num_features\n",
        "    self.W = np.random.randn(num_features, 1)\n",
        "    self.b = np.random.randn()"
      ],
      "metadata": {
        "id": "HffKkzI4HUZD"
      },
      "execution_count": 6,
      "outputs": []
    },
    {
      "cell_type": "code",
      "execution_count": 7,
      "metadata": {
        "colab": {
          "base_uri": "https://localhost:8080/"
        },
        "id": "8lai_RRLGMHO",
        "outputId": "35cbc629-aef0-4d13-8a9a-6be64b7961f5"
      },
      "outputs": [
        {
          "output_type": "stream",
          "name": "stdout",
          "text": [
            "[[-0.83664178]\n",
            " [ 0.69032099]]\n",
            "1.1915790751591089\n"
          ]
        }
      ],
      "source": [
        "model = Model(2)\n",
        "print(model.W)\n",
        "print(model.b)"
      ]
    },
    {
      "cell_type": "markdown",
      "metadata": {
        "id": "haRSRM8DGMHO"
      },
      "source": [
        "# Task 4: Forward Pass"
      ]
    },
    {
      "cell_type": "markdown",
      "metadata": {
        "id": "3JvGk8sNGMHO"
      },
      "source": [
        "The gradient descent algorithm can be simplified in 4 steps:\n",
        "\n",
        "1. Get predictions y_hat for X with current values of W and b.\n",
        "2. Compute the loss between y and y_hat\n",
        "3. Find gradients of the loss with respect to parameters W and b\n",
        "4. Update the values of W and b by subtracting the gradient values obtained in the previous step\n",
        "\n",
        "Let's simplify our linear equation a bit more for an example:\n",
        "$\n",
        "\\begin{equation}\n",
        "y = wx\n",
        "\\end{equation}\n",
        "$\n",
        "\n",
        "Let's plot J as a function of w\n",
        "\n",
        "![Loss vs Param](https://github.com/aimldlnlp/Linear-Regression-with-Python/blob/main/JvsW.png?raw=1)\n",
        "\n",
        "The gradients of loss with respect to w:\n",
        "\n",
        "\\begin{equation}\n",
        "\\frac{dJ}{dw} = \\frac{\\delta{J}}{\\delta{w}} = \\lim_{\\epsilon \\to 0} \\frac{J(w + \\epsilon) - J(w)}{\\epsilon}\n",
        "\\end{equation}"
      ]
    },
    {
      "cell_type": "code",
      "execution_count": 8,
      "metadata": {
        "id": "RIuidpI_GMHP"
      },
      "outputs": [],
      "source": [
        "class Model(Model):\n",
        "    def forward_pass(self, X):\n",
        "      y_hat = np.dot(X, self.W) + self.b\n",
        "      return y_hat"
      ]
    },
    {
      "cell_type": "code",
      "execution_count": 9,
      "metadata": {
        "colab": {
          "base_uri": "https://localhost:8080/"
        },
        "id": "-pJl5LbqGMHP",
        "outputId": "0ca3817f-deab-4ac6-d886-cbf58f6b2289"
      },
      "outputs": [
        {
          "output_type": "stream",
          "name": "stdout",
          "text": [
            "(1000, 1)\n"
          ]
        }
      ],
      "source": [
        "y_hat = Model(2).forward_pass(X)\n",
        "print(y_hat.shape)"
      ]
    },
    {
      "cell_type": "markdown",
      "metadata": {
        "id": "yakJ4I3KGMHP"
      },
      "source": [
        "# Task 5: Compute Loss\n",
        "\n",
        "The loss over **m** examples:\n",
        "\n",
        "$\n",
        "\\begin{equation}\n",
        "J = \\frac{1}{2m} \\sum_{i=1}^{m} (y - \\hat{y})^2\n",
        "\\end{equation}\n",
        "$"
      ]
    },
    {
      "cell_type": "code",
      "execution_count": 10,
      "metadata": {
        "id": "q0sAfQelGMHP"
      },
      "outputs": [],
      "source": [
        "class Model(Model):\n",
        "    def compute_loss(self, y_hat, y_true):\n",
        "        return np.sum(np.square(y_hat - y_true))/(2*y_hat.shape[0])"
      ]
    },
    {
      "cell_type": "code",
      "execution_count": 11,
      "metadata": {
        "id": "kjgMqi_eGMHP"
      },
      "outputs": [],
      "source": [
        "model = Model(2)\n",
        "y_hat = model.forward_pass(X)\n",
        "loss = model.compute_loss(y, y_hat)"
      ]
    },
    {
      "cell_type": "code",
      "execution_count": 12,
      "metadata": {
        "id": "d09I1CdMGMHP",
        "outputId": "b4764d23-6226-4a5d-e766-386964e2982f",
        "colab": {
          "base_uri": "https://localhost:8080/"
        }
      },
      "outputs": [
        {
          "output_type": "execute_result",
          "data": {
            "text/plain": [
              "6.044075609420373"
            ]
          },
          "metadata": {},
          "execution_count": 12
        }
      ],
      "source": [
        "loss"
      ]
    },
    {
      "cell_type": "markdown",
      "metadata": {
        "id": "FDo7dkdRGMHP"
      },
      "source": [
        "# Task 6: Backward Pass\n",
        "\n",
        "The gradient of loss with respect to bias can be calculated with:\n",
        "\n",
        "$\n",
        "\\begin{equation}\n",
        "\\frac{dJ}{db} = \\frac{1}{m} \\sum_{i=1}^{m} (\\hat{y^{(i)}} - y^{(i)})\n",
        "\\end{equation}\n",
        "$\n",
        "\n",
        "$\n",
        "\\begin{equation}\n",
        "\\frac{dJ}{dW_j} = \\frac{1}{m} \\sum_{i=1}^{m} (\\hat{y^{(i)}} - y^{(i)}).x_j^{(i)}\n",
        "\\end{equation}\n",
        "$"
      ]
    },
    {
      "cell_type": "code",
      "execution_count": 13,
      "metadata": {
        "id": "BBCy1TsKGMHP"
      },
      "outputs": [],
      "source": [
        "class Model(Model):\n",
        "    def backward_pass(self, X, y_true, y_hat):\n",
        "        m = y_hat.shape[0]\n",
        "        db = (1/m)*np.sum(y_hat - y_true)\n",
        "        dW = (1/m)*np.sum(np.dot(np.transpose(y_hat - y_true), X), axis = 0)\n",
        "        return dW, db"
      ]
    },
    {
      "cell_type": "code",
      "execution_count": 14,
      "metadata": {
        "id": "rgnGuuh8GMHP"
      },
      "outputs": [],
      "source": [
        "model = Model(2)\n",
        "\n",
        "X, y = generate_examples()\n",
        "y_hat = model.forward_pass(X)\n",
        "\n",
        "dW, db = model.backward_pass(X, y, y_hat)"
      ]
    },
    {
      "cell_type": "code",
      "execution_count": 15,
      "metadata": {
        "id": "AocjChXwGMHP",
        "outputId": "3377a5e9-ae2e-47bf-ddd4-083758dc2cca",
        "colab": {
          "base_uri": "https://localhost:8080/"
        }
      },
      "outputs": [
        {
          "output_type": "stream",
          "name": "stdout",
          "text": [
            "[-0.09486282  2.97733002] 0.5923936737520896\n"
          ]
        }
      ],
      "source": [
        "print(dW, db)"
      ]
    },
    {
      "cell_type": "markdown",
      "metadata": {
        "id": "_UyvTkuBGMHP"
      },
      "source": [
        "# Task 7: Update Parameters"
      ]
    },
    {
      "cell_type": "code",
      "execution_count": 16,
      "metadata": {
        "id": "56qck1-KGMHP"
      },
      "outputs": [],
      "source": [
        "class Model(Model):\n",
        "  def update_params(self, dW, db, lr):\n",
        "    self.W = self.W - lr * np.reshape(dW, (self.num_features, 1))\n",
        "    self.b = self.b - lr * db"
      ]
    },
    {
      "cell_type": "markdown",
      "metadata": {
        "id": "ukYo7tzLGMHP"
      },
      "source": [
        "# Task 8: Training Loop"
      ]
    },
    {
      "cell_type": "code",
      "execution_count": 22,
      "metadata": {
        "id": "Z2ZgWd3iGMHP"
      },
      "outputs": [],
      "source": [
        "class Model(Model):\n",
        "  def train(self, x_train, y_train, iterations, lr):\n",
        "    losses = []\n",
        "    for i in range(0, iterations):\n",
        "      y_hat = self.forward_pass(x_train)\n",
        "      loss = self.compute_loss(y_hat, y_train)\n",
        "      dW, db = self.backward_pass(x_train, y_train, y_hat)\n",
        "      self.update_params(dW, db, lr)\n",
        "      losses.append(loss)\n",
        "      if i%int(iterations/10) == 0:\n",
        "        print(\"Iteration: {}, Loss: {:.4f}\".format(i, loss))\n",
        "    return losses"
      ]
    },
    {
      "cell_type": "code",
      "execution_count": 23,
      "metadata": {
        "id": "rOLPF2VeGMHQ"
      },
      "outputs": [],
      "source": [
        "model = Model(2)"
      ]
    },
    {
      "cell_type": "code",
      "execution_count": 24,
      "metadata": {
        "id": "H2rGiNZVGMHQ"
      },
      "outputs": [],
      "source": [
        "x_train, y_train = generate_examples()"
      ]
    },
    {
      "cell_type": "code",
      "execution_count": 25,
      "metadata": {
        "id": "48OXJaFHGMHQ",
        "outputId": "e0193b73-2d1d-4ccf-c66b-44645562a2eb",
        "colab": {
          "base_uri": "https://localhost:8080/"
        }
      },
      "outputs": [
        {
          "output_type": "stream",
          "name": "stdout",
          "text": [
            "Iteration: 0, Loss: 11.9120\n",
            "Iteration: 100, Loss: 6.6238\n",
            "Iteration: 200, Loss: 3.6852\n",
            "Iteration: 300, Loss: 2.0513\n",
            "Iteration: 400, Loss: 1.1423\n",
            "Iteration: 500, Loss: 0.6364\n",
            "Iteration: 600, Loss: 0.3548\n",
            "Iteration: 700, Loss: 0.1978\n",
            "Iteration: 800, Loss: 0.1104\n",
            "Iteration: 900, Loss: 0.0616\n"
          ]
        }
      ],
      "source": [
        "losses = model.train(x_train, y_train, 1000, 3e-3)"
      ]
    },
    {
      "cell_type": "code",
      "execution_count": 26,
      "metadata": {
        "id": "1e9tiyjmGMHQ",
        "outputId": "7b7104f8-3710-4ac6-87b6-4ad6da2ea5d6",
        "colab": {
          "base_uri": "https://localhost:8080/",
          "height": 430
        }
      },
      "outputs": [
        {
          "output_type": "display_data",
          "data": {
            "text/plain": [
              "<Figure size 640x480 with 1 Axes>"
            ],
            "image/png": "[encoded data removed]"
          },
          "metadata": {}
        }
      ],
      "source": [
        "plt.plot(losses);"
      ]
    },
    {
      "cell_type": "markdown",
      "metadata": {
        "id": "apK48nDuGMHQ"
      },
      "source": [
        "# Task 9: Predictions"
      ]
    },
    {
      "cell_type": "code",
      "execution_count": 27,
      "metadata": {
        "id": "FYAHF4QjGMHQ",
        "outputId": "eaab7a02-6ad7-40cf-d92e-965f24e8d071",
        "colab": {
          "base_uri": "https://localhost:8080/"
        }
      },
      "outputs": [
        {
          "output_type": "stream",
          "name": "stdout",
          "text": [
            "(500, 2) (500, 1)\n"
          ]
        }
      ],
      "source": [
        "model_untrained = Model(2)\n",
        "\n",
        "x_test, y_test = generate_examples(500)\n",
        "print(x_test.shape, y_test.shape)"
      ]
    },
    {
      "cell_type": "code",
      "execution_count": 29,
      "metadata": {
        "id": "1N5YwWfLGMHQ"
      },
      "outputs": [],
      "source": [
        "preds_untrained = model_untrained.forward_pass(x_test)\n",
        "preds_trained = model.forward_pass(x_test)"
      ]
    },
    {
      "cell_type": "code",
      "execution_count": 30,
      "metadata": {
        "id": "klHPCCfqGMHQ",
        "outputId": "c28f4602-0a56-4e98-f45b-fd1277bff4af",
        "colab": {
          "base_uri": "https://localhost:8080/",
          "height": 560
        }
      },
      "outputs": [
        {
          "output_type": "execute_result",
          "data": {
            "text/plain": [
              "<matplotlib.legend.Legend at 0x7c8c40070ac0>"
            ]
          },
          "metadata": {},
          "execution_count": 30
        },
        {
          "output_type": "display_data",
          "data": {
            "text/plain": [
              "<Figure size 600x600 with 1 Axes>"
            ],
            "image/png": "[encoded data removed]"
          },
          "metadata": {}
        }
      ],
      "source": [
        "plt.figure(figsize=(6, 6))\n",
        "plt.plot(preds_untrained, y_test, 'rx', label='Untrained')\n",
        "plt.plot(preds_trained, y_test, 'b', label='Trained')\n",
        "plt.xlabel('Predictions')\n",
        "plt.ylabel('Actual')\n",
        "plt.legend()"
      ]
    },
    {
      "cell_type": "code",
      "source": [],
      "metadata": {
        "id": "guCqzlq6AIqg"
      },
      "execution_count": null,
      "outputs": []
    }
  ],
  "metadata": {
    "kernelspec": {
      "display_name": "Python 3 (ipykernel)",
      "language": "python",
      "name": "python3"
    },
    "language_info": {
      "codemirror_mode": {
        "name": "ipython",
        "version": 3
      },
      "file_extension": ".py",
      "mimetype": "text/x-python",
      "name": "python",
      "nbconvert_exporter": "python",
      "pygments_lexer": "ipython3",
      "version": "3.10.6"
    },
    "colab": {
      "provenance": [],
      "include_colab_link": true
    }
  },
  "nbformat": 4,
  "nbformat_minor": 0
}