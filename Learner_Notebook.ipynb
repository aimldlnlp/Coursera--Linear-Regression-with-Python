{
  "cells": [
    {
      "cell_type": "markdown",
      "metadata": {
        "id": "view-in-github",
        "colab_type": "text"
      },
      "source": [
        "<a href=\"https://colab.research.google.com/github/aimldlnlp/Linear-Regression-with-Python/blob/main/Learner_Notebook.ipynb\" target=\"_parent\"><img src=\"https://colab.research.google.com/assets/colab-badge.svg\" alt=\"Open In Colab\"/></a>"
      ]
    },
    {
      "cell_type": "markdown",
      "metadata": {
        "id": "hssQKAHHGMHM"
      },
      "source": [
        "# Task 1: Introduction"
      ]
    },
    {
      "cell_type": "code",
      "execution_count": 1,
      "metadata": {
        "id": "miyjpmj5GMHN"
      },
      "outputs": [],
      "source": [
        "%matplotlib inline\n",
        "\n",
        "import numpy as np\n",
        "import matplotlib.pyplot as plt"
      ]
    },
    {
      "cell_type": "markdown",
      "metadata": {
        "id": "raFpVM_XGMHN"
      },
      "source": [
        "# Task 2: Dataset\n",
        "\n",
        "Real estate agent table:"
      ]
    },
    {
      "cell_type": "markdown",
      "metadata": {
        "id": "Um-iCtNhGMHN"
      },
      "source": [
        "|Area|Distance|Price|\n",
        "|---|---|---|\n",
        "|70|3|21200|\n",
        "|50|1|22010|\n",
        "|120|9|24305|\n",
        "|100|2|31500|\n",
        "\n",
        "You can write the relationship with a 2-variable linear equation:\n",
        "\n",
        "$\n",
        "\\begin{equation}\n",
        "y = b + w_1.x_1 + w_2.x_2\n",
        "\\end{equation}\n",
        "$\n",
        "\n",
        "In a vector form:\n",
        "\n",
        "$\n",
        "\\begin{equation}\n",
        "y = b + (w_1 w_2).\\binom{x_1}{x_2}\n",
        "\\end{equation}\n",
        "$\n",
        "\n",
        "Where\n",
        "$\n",
        "\\begin{equation}\n",
        "W = (w_1 w_2)\n",
        "\\end{equation}\n",
        "$\n",
        "and\n",
        "$\n",
        "\\begin{equation}\n",
        "X = \\binom{x_1}{x_2}\n",
        "\\end{equation}\n",
        "$"
      ]
    },
    {
      "cell_type": "code",
      "execution_count": 3,
      "metadata": {
        "id": "HI7Snm3FGMHN"
      },
      "outputs": [],
      "source": [
        "def generate_examples(num=1000):\n",
        "    W = [1.0, -3.0]\n",
        "    b = 1.0\n",
        "\n",
        "    W = np.reshape(W, (2,1))\n",
        "    X = np.random.randn(num, 2)\n",
        "    y = np.dot(X, W) + b\n",
        "    y = np.reshape(y, (num, 1))\n",
        "    return X, y"
      ]
    },
    {
      "cell_type": "code",
      "execution_count": 4,
      "metadata": {
        "id": "nU0asHQOGMHO"
      },
      "outputs": [],
      "source": [
        "X, y = generate_examples()"
      ]
    },
    {
      "cell_type": "code",
      "execution_count": 5,
      "metadata": {
        "colab": {
          "base_uri": "https://localhost:8080/"
        },
        "id": "DY0MYXKdGMHO",
        "outputId": "91cdc3ed-5ec2-41ee-9ce3-27e553d0dd00"
      },
      "outputs": [
        {
          "output_type": "stream",
          "name": "stdout",
          "text": [
            "(1000, 2)\n",
            "(1000, 1)\n"
          ]
        }
      ],
      "source": [
        "print(X.shape)\n",
        "print(y.shape)"
      ]
    },
    {
      "cell_type": "code",
      "execution_count": 7,
      "metadata": {
        "colab": {
          "base_uri": "https://localhost:8080/"
        },
        "id": "33Oky0z7GMHO",
        "outputId": "23ac4f38-f6a3-4c3b-b985-4a4780e4a04e"
      },
      "outputs": [
        {
          "output_type": "stream",
          "name": "stdout",
          "text": [
            "[[-0.20606728 -0.31562631]\n",
            " [-0.84995937 -1.68242993]\n",
            " [-0.27210273  0.30066057]\n",
            " [ 0.16035073 -1.90419292]\n",
            " [ 0.28684697  0.27430541]]\n",
            "[[ 1.74081163]\n",
            " [ 5.19733043]\n",
            " [-0.17408445]\n",
            " [ 6.8729295 ]\n",
            " [ 0.46393074]]\n"
          ]
        }
      ],
      "source": [
        "print(X[:5])\n",
        "print(y[:5])"
      ]
    },
    {
      "cell_type": "markdown",
      "metadata": {
        "id": "6il0WpUMGMHO"
      },
      "source": [
        "# Task 3: Initialize Parameters"
      ]
    },
    {
      "cell_type": "markdown",
      "metadata": {
        "id": "0qTGSEDTGMHO"
      },
      "source": [
        "The loss over **m** examples:\n",
        "\n",
        "$\n",
        "\\begin{equation}\n",
        "J = \\frac{1}{2m} \\sum_{i=1}^{m} (y - \\hat{y})^2\n",
        "\\end{equation}\n",
        "$\n",
        "\n",
        "The objective of the gradient descent algorithm is to minimize this loss value.\n",
        "\n",
        "Gradient Descent Objective is to\n",
        "$\n",
        "\\begin{equation}\n",
        "min(J)\n",
        "\\end{equation}\n",
        "$"
      ]
    },
    {
      "cell_type": "code",
      "source": [
        "class Model:\n",
        "  def __init__(self, num_features):\n",
        "    self.num_features = num_features\n",
        "    self.W = np.random.randn(num_features, 1)\n",
        "    self.b = np.random.randn()"
      ],
      "metadata": {
        "id": "HffKkzI4HUZD"
      },
      "execution_count": 9,
      "outputs": []
    },
    {
      "cell_type": "code",
      "execution_count": 10,
      "metadata": {
        "colab": {
          "base_uri": "https://localhost:8080/"
        },
        "id": "8lai_RRLGMHO",
        "outputId": "969ea7e8-49df-4c61-e0ac-1385fc598684"
      },
      "outputs": [
        {
          "output_type": "stream",
          "name": "stdout",
          "text": [
            "[[-0.19148305]\n",
            " [-1.18122859]]\n",
            "-2.4634690813674847\n"
          ]
        }
      ],
      "source": [
        "model = Model(2)\n",
        "print(model.W)\n",
        "print(model.b)"
      ]
    },
    {
      "cell_type": "markdown",
      "metadata": {
        "id": "haRSRM8DGMHO"
      },
      "source": [
        "# Task 4: Forward Pass"
      ]
    },
    {
      "cell_type": "markdown",
      "metadata": {
        "id": "3JvGk8sNGMHO"
      },
      "source": [
        "The gradient descent algorithm can be simplified in 4 steps:\n",
        "\n",
        "1. Get predictions y_hat for X with current values of W and b.\n",
        "2. Compute the loss between y and y_hat\n",
        "3. Find gradients of the loss with respect to parameters W and b\n",
        "4. Update the values of W and b by subtracting the gradient values obtained in the previous step\n",
        "\n",
        "Let's simplify our linear equation a bit more for an example:\n",
        "$\n",
        "\\begin{equation}\n",
        "y = wx\n",
        "\\end{equation}\n",
        "$\n",
        "\n",
        "Let's plot J as a function of w\n",
        "\n",
        "![Loss vs Param](JvsW.png)\n",
        "\n",
        "The gradients of loss with respect to w:\n",
        "\n",
        "\\begin{equation}\n",
        "\\frac{dJ}{dw} = \\frac{\\delta{J}}{\\delta{w}} = \\lim_{\\epsilon \\to 0} \\frac{J(w + \\epsilon) - J(w)}{\\epsilon}\n",
        "\\end{equation}"
      ]
    },
    {
      "cell_type": "code",
      "execution_count": 15,
      "metadata": {
        "id": "RIuidpI_GMHP"
      },
      "outputs": [],
      "source": [
        "class Model(Model):\n",
        "    def forward_pass(self, X):\n",
        "      y_hat = np.dot(X, self.W) + self.b\n",
        "      return y_hat"
      ]
    },
    {
      "cell_type": "code",
      "execution_count": 16,
      "metadata": {
        "colab": {
          "base_uri": "https://localhost:8080/"
        },
        "id": "-pJl5LbqGMHP",
        "outputId": "52c7f132-d3a2-4b30-9880-fe369ad65f84"
      },
      "outputs": [
        {
          "output_type": "stream",
          "name": "stdout",
          "text": [
            "(1000, 1)\n"
          ]
        }
      ],
      "source": [
        "y_hat = Model(2).forward_pass(X)\n",
        "print(y_hat.shape)"
      ]
    },
    {
      "cell_type": "markdown",
      "metadata": {
        "id": "yakJ4I3KGMHP"
      },
      "source": [
        "# Task 5: Compute Loss\n",
        "\n",
        "The loss over **m** examples:\n",
        "\n",
        "$\n",
        "\\begin{equation}\n",
        "J = \\frac{1}{2m} \\sum_{i=1}^{m} (y - \\hat{y})^2\n",
        "\\end{equation}\n",
        "$"
      ]
    },
    {
      "cell_type": "code",
      "execution_count": null,
      "metadata": {
        "id": "q0sAfQelGMHP"
      },
      "outputs": [],
      "source": []
    },
    {
      "cell_type": "code",
      "execution_count": null,
      "metadata": {
        "id": "kjgMqi_eGMHP"
      },
      "outputs": [],
      "source": []
    },
    {
      "cell_type": "code",
      "execution_count": null,
      "metadata": {
        "id": "d09I1CdMGMHP"
      },
      "outputs": [],
      "source": []
    },
    {
      "cell_type": "markdown",
      "metadata": {
        "id": "FDo7dkdRGMHP"
      },
      "source": [
        "# Task 6: Backward Pass\n",
        "\n",
        "The gradient of loss with respect to bias can be calculated with:\n",
        "\n",
        "$\n",
        "\\begin{equation}\n",
        "\\frac{dJ}{db} = \\frac{1}{m} \\sum_{i=1}^{m} (\\hat{y^{(i)}} - y^{(i)})\n",
        "\\end{equation}\n",
        "$\n",
        "\n",
        "$\n",
        "\\begin{equation}\n",
        "\\frac{dJ}{dW_j} = \\frac{1}{m} \\sum_{i=1}^{m} (\\hat{y^{(i)}} - y^{(i)}).x_j^{(i)}\n",
        "\\end{equation}\n",
        "$"
      ]
    },
    {
      "cell_type": "code",
      "execution_count": null,
      "metadata": {
        "id": "BBCy1TsKGMHP"
      },
      "outputs": [],
      "source": []
    },
    {
      "cell_type": "code",
      "execution_count": null,
      "metadata": {
        "id": "rgnGuuh8GMHP"
      },
      "outputs": [],
      "source": []
    },
    {
      "cell_type": "code",
      "execution_count": null,
      "metadata": {
        "id": "AocjChXwGMHP"
      },
      "outputs": [],
      "source": []
    },
    {
      "cell_type": "markdown",
      "metadata": {
        "id": "_UyvTkuBGMHP"
      },
      "source": [
        "# Task 7: Update Parameters"
      ]
    },
    {
      "cell_type": "code",
      "execution_count": null,
      "metadata": {
        "id": "56qck1-KGMHP"
      },
      "outputs": [],
      "source": []
    },
    {
      "cell_type": "markdown",
      "metadata": {
        "id": "ukYo7tzLGMHP"
      },
      "source": [
        "# Task 8: Training Loop"
      ]
    },
    {
      "cell_type": "code",
      "execution_count": null,
      "metadata": {
        "id": "Z2ZgWd3iGMHP"
      },
      "outputs": [],
      "source": []
    },
    {
      "cell_type": "code",
      "execution_count": null,
      "metadata": {
        "id": "rOLPF2VeGMHQ"
      },
      "outputs": [],
      "source": []
    },
    {
      "cell_type": "code",
      "execution_count": null,
      "metadata": {
        "id": "H2rGiNZVGMHQ"
      },
      "outputs": [],
      "source": []
    },
    {
      "cell_type": "code",
      "execution_count": null,
      "metadata": {
        "id": "48OXJaFHGMHQ"
      },
      "outputs": [],
      "source": []
    },
    {
      "cell_type": "code",
      "execution_count": null,
      "metadata": {
        "id": "1e9tiyjmGMHQ"
      },
      "outputs": [],
      "source": []
    },
    {
      "cell_type": "markdown",
      "metadata": {
        "id": "apK48nDuGMHQ"
      },
      "source": [
        "# Task 9: Predictions"
      ]
    },
    {
      "cell_type": "code",
      "execution_count": null,
      "metadata": {
        "id": "FYAHF4QjGMHQ"
      },
      "outputs": [],
      "source": []
    },
    {
      "cell_type": "code",
      "execution_count": null,
      "metadata": {
        "id": "1N5YwWfLGMHQ"
      },
      "outputs": [],
      "source": []
    },
    {
      "cell_type": "code",
      "execution_count": null,
      "metadata": {
        "id": "klHPCCfqGMHQ"
      },
      "outputs": [],
      "source": []
    }
  ],
  "metadata": {
    "kernelspec": {
      "display_name": "Python 3 (ipykernel)",
      "language": "python",
      "name": "python3"
    },
    "language_info": {
      "codemirror_mode": {
        "name": "ipython",
        "version": 3
      },
      "file_extension": ".py",
      "mimetype": "text/x-python",
      "name": "python",
      "nbconvert_exporter": "python",
      "pygments_lexer": "ipython3",
      "version": "3.10.6"
    },
    "colab": {
      "provenance": [],
      "include_colab_link": true
    }
  },
  "nbformat": 4,
  "nbformat_minor": 0
}